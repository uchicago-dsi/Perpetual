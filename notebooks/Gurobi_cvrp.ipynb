{
 "cells": [
  {
   "cell_type": "code",
   "execution_count": 7,
   "id": "4ffa30d7",
   "metadata": {},
   "outputs": [],
   "source": [
    "import numpy as np\n",
    "import matplotlib.pyplot as plt"
   ]
  },
  {
   "cell_type": "code",
   "execution_count": 8,
   "id": "5ac715fe",
   "metadata": {},
   "outputs": [],
   "source": [
    "rnd = np.random\n",
    "rnd.seed(0)"
   ]
  },
  {
   "cell_type": "code",
   "execution_count": 9,
   "id": "3df89621",
   "metadata": {},
   "outputs": [],
   "source": [
    "# n is the number of clients\n",
    "n = 10\n",
    "# random generged coordinator for clinets\n",
    "xc = rnd.rand(n + 1) * 200\n",
    "yc = rnd.rand(n + 1) * 100"
   ]
  },
  {
   "cell_type": "code",
   "execution_count": 11,
   "id": "567525ba",
   "metadata": {},
   "outputs": [
    {
     "data": {
      "text/plain": [
       "<matplotlib.collections.PathCollection at 0x10ef2bcd0>"
      ]
     },
     "execution_count": 11,
     "metadata": {},
     "output_type": "execute_result"
    },
    {
     "data": {
      "image/png": "[encoded data removed]",
      "text/plain": [
       "<Figure size 640x480 with 1 Axes>"
      ]
     },
     "metadata": {},
     "output_type": "display_data"
    }
   ],
   "source": [
    "# set the first set of coordinate as depot\n",
    "plt.plot(xc[0], yc[0], c='r', marker = 's')\n",
    "# \n",
    "plt.scatter(xc[1:], yc[1:], c='b')"
   ]
  },
  {
   "cell_type": "code",
   "execution_count": 23,
   "id": "93376909",
   "metadata": {},
   "outputs": [],
   "source": [
    "# create index for clients\n",
    "N = [i for i in range(1, n+1)]\n",
    "# set of Vertics\n",
    "V = [0] + N\n",
    "# set of Arcs\n",
    "A = [(i, j) for i in V for j in V if i != j]\n",
    "# cost of travel, distance, gas or time\n",
    "# for this model we use distance\n",
    "# c distance matrixs\n",
    "c = {(i, j): np.hypot(xc[i]-xc[j], yc[i]-yc[j]) for i, j in A}\n",
    "# number of vehicle\n",
    "Q = 20\n",
    "# randomly generated amount that need to be delivered\n",
    "q = {i: rnd.randint(1, 10) for i in N}"
   ]
  },
  {
   "cell_type": "code",
   "execution_count": 38,
   "id": "a6925d74",
   "metadata": {},
   "outputs": [
    {
     "data": {
      "text/plain": [
       "[0, 1, 2, 3, 4, 5, 6, 7, 8, 9, 10]"
      ]
     },
     "execution_count": 38,
     "metadata": {},
     "output_type": "execute_result"
    }
   ],
   "source": [
    "V"
   ]
  },
  {
   "cell_type": "code",
   "execution_count": 37,
   "id": "c02684b5",
   "metadata": {},
   "outputs": [
    {
     "data": {
      "text/plain": [
       "[(0, 1),\n",
       " (0, 2),\n",
       " (0, 3),\n",
       " (0, 4),\n",
       " (0, 5),\n",
       " (0, 6),\n",
       " (0, 7),\n",
       " (0, 8),\n",
       " (0, 9),\n",
       " (0, 10),\n",
       " (1, 0),\n",
       " (1, 2),\n",
       " (1, 3),\n",
       " (1, 4),\n",
       " (1, 5),\n",
       " (1, 6),\n",
       " (1, 7),\n",
       " (1, 8),\n",
       " (1, 9),\n",
       " (1, 10),\n",
       " (2, 0),\n",
       " (2, 1),\n",
       " (2, 3),\n",
       " (2, 4),\n",
       " (2, 5),\n",
       " (2, 6),\n",
       " (2, 7),\n",
       " (2, 8),\n",
       " (2, 9),\n",
       " (2, 10),\n",
       " (3, 0),\n",
       " (3, 1),\n",
       " (3, 2),\n",
       " (3, 4),\n",
       " (3, 5),\n",
       " (3, 6),\n",
       " (3, 7),\n",
       " (3, 8),\n",
       " (3, 9),\n",
       " (3, 10),\n",
       " (4, 0),\n",
       " (4, 1),\n",
       " (4, 2),\n",
       " (4, 3),\n",
       " (4, 5),\n",
       " (4, 6),\n",
       " (4, 7),\n",
       " (4, 8),\n",
       " (4, 9),\n",
       " (4, 10),\n",
       " (5, 0),\n",
       " (5, 1),\n",
       " (5, 2),\n",
       " (5, 3),\n",
       " (5, 4),\n",
       " (5, 6),\n",
       " (5, 7),\n",
       " (5, 8),\n",
       " (5, 9),\n",
       " (5, 10),\n",
       " (6, 0),\n",
       " (6, 1),\n",
       " (6, 2),\n",
       " (6, 3),\n",
       " (6, 4),\n",
       " (6, 5),\n",
       " (6, 7),\n",
       " (6, 8),\n",
       " (6, 9),\n",
       " (6, 10),\n",
       " (7, 0),\n",
       " (7, 1),\n",
       " (7, 2),\n",
       " (7, 3),\n",
       " (7, 4),\n",
       " (7, 5),\n",
       " (7, 6),\n",
       " (7, 8),\n",
       " (7, 9),\n",
       " (7, 10),\n",
       " (8, 0),\n",
       " (8, 1),\n",
       " (8, 2),\n",
       " (8, 3),\n",
       " (8, 4),\n",
       " (8, 5),\n",
       " (8, 6),\n",
       " (8, 7),\n",
       " (8, 9),\n",
       " (8, 10),\n",
       " (9, 0),\n",
       " (9, 1),\n",
       " (9, 2),\n",
       " (9, 3),\n",
       " (9, 4),\n",
       " (9, 5),\n",
       " (9, 6),\n",
       " (9, 7),\n",
       " (9, 8),\n",
       " (9, 10),\n",
       " (10, 0),\n",
       " (10, 1),\n",
       " (10, 2),\n",
       " (10, 3),\n",
       " (10, 4),\n",
       " (10, 5),\n",
       " (10, 6),\n",
       " (10, 7),\n",
       " (10, 8),\n",
       " (10, 9)]"
      ]
     },
     "execution_count": 37,
     "metadata": {},
     "output_type": "execute_result"
    }
   ],
   "source": [
    "A"
   ]
  },
  {
   "cell_type": "code",
   "execution_count": 24,
   "id": "7adb06d4",
   "metadata": {},
   "outputs": [
    {
     "data": {
      "text/plain": [
       "{1: 4, 2: 4, 3: 4, 4: 8, 5: 1, 6: 2, 7: 1, 8: 5, 9: 8, 10: 4}"
      ]
     },
     "execution_count": 24,
     "metadata": {},
     "output_type": "execute_result"
    }
   ],
   "source": [
    "q\n"
   ]
  },
  {
   "cell_type": "code",
   "execution_count": 28,
   "id": "951c1dd3",
   "metadata": {},
   "outputs": [
    {
     "data": {
      "text/plain": [
       "{(0, 1): 33.504686960860795,\n",
       " (0, 2): 41.11138629503385,\n",
       " (0, 3): 45.79263333713419,\n",
       " (0, 4): 50.77555203012287,\n",
       " (0, 5): 54.44725732628541,\n",
       " (0, 6): 37.647574061136034,\n",
       " (0, 7): 72.98056771655875,\n",
       " (0, 8): 89.70844922828567,\n",
       " (0, 9): 55.82497026893104,\n",
       " (0, 10): 55.59374885917202,\n",
       " (1, 0): 33.504686960860795,\n",
       " (1, 2): 42.23764921128614,\n",
       " (1, 3): 60.2523224726414,\n",
       " (1, 4): 75.58102299795816,\n",
       " (1, 5): 56.50848025794605,\n",
       " (1, 6): 61.502187540784085,\n",
       " (1, 7): 41.094312512967974,\n",
       " (1, 8): 58.14985245467972,\n",
       " (1, 9): 78.02546809638228,\n",
       " (1, 10): 27.720843893358516,\n",
       " (2, 0): 41.11138629503385,\n",
       " (2, 1): 42.23764921128614,\n",
       " (2, 3): 86.23654979493304,\n",
       " (2, 4): 91.17823243082672,\n",
       " (2, 5): 90.94783124977752,\n",
       " (2, 6): 34.318704181986625,\n",
       " (2, 7): 59.65272609703002,\n",
       " (2, 8): 72.39358384965435,\n",
       " (2, 9): 44.18366319713841,\n",
       " (2, 10): 39.85130178750766,\n",
       " (3, 0): 45.79263333713419,\n",
       " (3, 1): 60.2523224726414,\n",
       " (3, 2): 86.23654979493304,\n",
       " (3, 4): 24.29902805451533,\n",
       " (3, 5): 20.831530577252774,\n",
       " (3, 6): 79.12392604996269,\n",
       " (3, 7): 99.06310397166881,\n",
       " (3, 8): 115.75267299756139,\n",
       " (3, 9): 96.33064133573107,\n",
       " (3, 10): 87.97079000781358,\n",
       " (4, 0): 50.77555203012287,\n",
       " (4, 1): 75.58102299795816,\n",
       " (4, 2): 91.17823243082672,\n",
       " (4, 3): 24.29902805451533,\n",
       " (4, 5): 44.94867285094606,\n",
       " (4, 6): 74.60111275003985,\n",
       " (4, 7): 116.36397812331388,\n",
       " (4, 8): 133.39190181642465,\n",
       " (4, 9): 89.51095713217165,\n",
       " (4, 10): 102.415256486599,\n",
       " (5, 0): 54.44725732628541,\n",
       " (5, 1): 56.50848025794605,\n",
       " (5, 2): 90.94783124977752,\n",
       " (5, 3): 20.831530577252774,\n",
       " (5, 4): 44.94867285094606,\n",
       " (5, 6): 91.29968095475525,\n",
       " (5, 7): 90.3491149606583,\n",
       " (5, 8): 106.11583633364307,\n",
       " (5, 9): 109.27286539087447,\n",
       " (5, 10): 83.17538206595394,\n",
       " (6, 0): 37.647574061136034,\n",
       " (6, 1): 61.502187540784085,\n",
       " (6, 2): 34.318704181986625,\n",
       " (6, 3): 79.12392604996269,\n",
       " (6, 4): 74.60111275003985,\n",
       " (6, 5): 91.29968095475525,\n",
       " (6, 7): 91.00028320168003,\n",
       " (6, 8): 105.28153296408613,\n",
       " (6, 9): 18.177619500947053,\n",
       " (6, 10): 70.90656238229411,\n",
       " (7, 0): 72.98056771655875,\n",
       " (7, 1): 41.094312512967974,\n",
       " (7, 2): 59.65272609703002,\n",
       " (7, 3): 99.06310397166881,\n",
       " (7, 4): 116.36397812331388,\n",
       " (7, 5): 90.3491149606583,\n",
       " (7, 6): 91.00028320168003,\n",
       " (7, 8): 17.061642424566603,\n",
       " (7, 9): 103.62376328676928,\n",
       " (7, 10): 20.119506833347312,\n",
       " (8, 0): 89.70844922828567,\n",
       " (8, 1): 58.14985245467972,\n",
       " (8, 2): 72.39358384965435,\n",
       " (8, 3): 115.75267299756139,\n",
       " (8, 4): 133.39190181642465,\n",
       " (8, 5): 106.11583633364307,\n",
       " (8, 6): 105.28153296408613,\n",
       " (8, 7): 17.061642424566603,\n",
       " (8, 9): 116.55136475120295,\n",
       " (8, 10): 35.109906284632594,\n",
       " (9, 0): 55.82497026893104,\n",
       " (9, 1): 78.02546809638228,\n",
       " (9, 2): 44.18366319713841,\n",
       " (9, 3): 96.33064133573107,\n",
       " (9, 4): 89.51095713217165,\n",
       " (9, 5): 109.27286539087447,\n",
       " (9, 6): 18.177619500947053,\n",
       " (9, 7): 103.62376328676928,\n",
       " (9, 8): 116.55136475120295,\n",
       " (9, 10): 83.6054747198245,\n",
       " (10, 0): 55.59374885917202,\n",
       " (10, 1): 27.720843893358516,\n",
       " (10, 2): 39.85130178750766,\n",
       " (10, 3): 87.97079000781358,\n",
       " (10, 4): 102.415256486599,\n",
       " (10, 5): 83.17538206595394,\n",
       " (10, 6): 70.90656238229411,\n",
       " (10, 7): 20.119506833347312,\n",
       " (10, 8): 35.109906284632594,\n",
       " (10, 9): 83.6054747198245}"
      ]
     },
     "execution_count": 28,
     "metadata": {},
     "output_type": "execute_result"
    }
   ],
   "source": [
    "c"
   ]
  },
  {
   "cell_type": "code",
   "execution_count": null,
   "id": "0188ae72",
   "metadata": {},
   "outputs": [],
   "source": []
  },
  {
   "cell_type": "code",
   "execution_count": 25,
   "id": "37c06c32",
   "metadata": {},
   "outputs": [],
   "source": [
    "# start using gurobi modeling the cvrp\n",
    "from gurobipy import Model, GRB, quicksum"
   ]
  },
  {
   "cell_type": "code",
   "execution_count": 26,
   "id": "440919ea",
   "metadata": {},
   "outputs": [
    {
     "name": "stdout",
     "output_type": "stream",
     "text": [
      "Set parameter Username\n",
      "Academic license - for non-commercial use only - expires 2025-01-15\n"
     ]
    }
   ],
   "source": [
    "mdl = Model('CVRP')"
   ]
  },
  {
   "cell_type": "code",
   "execution_count": 27,
   "id": "a44ff05d",
   "metadata": {},
   "outputs": [],
   "source": [
    "# adding variable of location index\n",
    "x = mdl.addVars(A, vtype=GRB.BINARY)\n",
    "# adding variable of number of client to the model\n",
    "u = mdl.addVars(N, vtype=GRB.CONTINUOUS)"
   ]
  },
  {
   "cell_type": "code",
   "execution_count": 29,
   "id": "e09e30ad",
   "metadata": {},
   "outputs": [
    {
     "data": {
      "text/plain": [
       "{(0, 1): <gurobi.Var *Awaiting Model Update*>,\n",
       " (0, 2): <gurobi.Var *Awaiting Model Update*>,\n",
       " (0, 3): <gurobi.Var *Awaiting Model Update*>,\n",
       " (0, 4): <gurobi.Var *Awaiting Model Update*>,\n",
       " (0, 5): <gurobi.Var *Awaiting Model Update*>,\n",
       " (0, 6): <gurobi.Var *Awaiting Model Update*>,\n",
       " (0, 7): <gurobi.Var *Awaiting Model Update*>,\n",
       " (0, 8): <gurobi.Var *Awaiting Model Update*>,\n",
       " (0, 9): <gurobi.Var *Awaiting Model Update*>,\n",
       " (0, 10): <gurobi.Var *Awaiting Model Update*>,\n",
       " (1, 0): <gurobi.Var *Awaiting Model Update*>,\n",
       " (1, 2): <gurobi.Var *Awaiting Model Update*>,\n",
       " (1, 3): <gurobi.Var *Awaiting Model Update*>,\n",
       " (1, 4): <gurobi.Var *Awaiting Model Update*>,\n",
       " (1, 5): <gurobi.Var *Awaiting Model Update*>,\n",
       " (1, 6): <gurobi.Var *Awaiting Model Update*>,\n",
       " (1, 7): <gurobi.Var *Awaiting Model Update*>,\n",
       " (1, 8): <gurobi.Var *Awaiting Model Update*>,\n",
       " (1, 9): <gurobi.Var *Awaiting Model Update*>,\n",
       " (1, 10): <gurobi.Var *Awaiting Model Update*>,\n",
       " (2, 0): <gurobi.Var *Awaiting Model Update*>,\n",
       " (2, 1): <gurobi.Var *Awaiting Model Update*>,\n",
       " (2, 3): <gurobi.Var *Awaiting Model Update*>,\n",
       " (2, 4): <gurobi.Var *Awaiting Model Update*>,\n",
       " (2, 5): <gurobi.Var *Awaiting Model Update*>,\n",
       " (2, 6): <gurobi.Var *Awaiting Model Update*>,\n",
       " (2, 7): <gurobi.Var *Awaiting Model Update*>,\n",
       " (2, 8): <gurobi.Var *Awaiting Model Update*>,\n",
       " (2, 9): <gurobi.Var *Awaiting Model Update*>,\n",
       " (2, 10): <gurobi.Var *Awaiting Model Update*>,\n",
       " (3, 0): <gurobi.Var *Awaiting Model Update*>,\n",
       " (3, 1): <gurobi.Var *Awaiting Model Update*>,\n",
       " (3, 2): <gurobi.Var *Awaiting Model Update*>,\n",
       " (3, 4): <gurobi.Var *Awaiting Model Update*>,\n",
       " (3, 5): <gurobi.Var *Awaiting Model Update*>,\n",
       " (3, 6): <gurobi.Var *Awaiting Model Update*>,\n",
       " (3, 7): <gurobi.Var *Awaiting Model Update*>,\n",
       " (3, 8): <gurobi.Var *Awaiting Model Update*>,\n",
       " (3, 9): <gurobi.Var *Awaiting Model Update*>,\n",
       " (3, 10): <gurobi.Var *Awaiting Model Update*>,\n",
       " (4, 0): <gurobi.Var *Awaiting Model Update*>,\n",
       " (4, 1): <gurobi.Var *Awaiting Model Update*>,\n",
       " (4, 2): <gurobi.Var *Awaiting Model Update*>,\n",
       " (4, 3): <gurobi.Var *Awaiting Model Update*>,\n",
       " (4, 5): <gurobi.Var *Awaiting Model Update*>,\n",
       " (4, 6): <gurobi.Var *Awaiting Model Update*>,\n",
       " (4, 7): <gurobi.Var *Awaiting Model Update*>,\n",
       " (4, 8): <gurobi.Var *Awaiting Model Update*>,\n",
       " (4, 9): <gurobi.Var *Awaiting Model Update*>,\n",
       " (4, 10): <gurobi.Var *Awaiting Model Update*>,\n",
       " (5, 0): <gurobi.Var *Awaiting Model Update*>,\n",
       " (5, 1): <gurobi.Var *Awaiting Model Update*>,\n",
       " (5, 2): <gurobi.Var *Awaiting Model Update*>,\n",
       " (5, 3): <gurobi.Var *Awaiting Model Update*>,\n",
       " (5, 4): <gurobi.Var *Awaiting Model Update*>,\n",
       " (5, 6): <gurobi.Var *Awaiting Model Update*>,\n",
       " (5, 7): <gurobi.Var *Awaiting Model Update*>,\n",
       " (5, 8): <gurobi.Var *Awaiting Model Update*>,\n",
       " (5, 9): <gurobi.Var *Awaiting Model Update*>,\n",
       " (5, 10): <gurobi.Var *Awaiting Model Update*>,\n",
       " (6, 0): <gurobi.Var *Awaiting Model Update*>,\n",
       " (6, 1): <gurobi.Var *Awaiting Model Update*>,\n",
       " (6, 2): <gurobi.Var *Awaiting Model Update*>,\n",
       " (6, 3): <gurobi.Var *Awaiting Model Update*>,\n",
       " (6, 4): <gurobi.Var *Awaiting Model Update*>,\n",
       " (6, 5): <gurobi.Var *Awaiting Model Update*>,\n",
       " (6, 7): <gurobi.Var *Awaiting Model Update*>,\n",
       " (6, 8): <gurobi.Var *Awaiting Model Update*>,\n",
       " (6, 9): <gurobi.Var *Awaiting Model Update*>,\n",
       " (6, 10): <gurobi.Var *Awaiting Model Update*>,\n",
       " (7, 0): <gurobi.Var *Awaiting Model Update*>,\n",
       " (7, 1): <gurobi.Var *Awaiting Model Update*>,\n",
       " (7, 2): <gurobi.Var *Awaiting Model Update*>,\n",
       " (7, 3): <gurobi.Var *Awaiting Model Update*>,\n",
       " (7, 4): <gurobi.Var *Awaiting Model Update*>,\n",
       " (7, 5): <gurobi.Var *Awaiting Model Update*>,\n",
       " (7, 6): <gurobi.Var *Awaiting Model Update*>,\n",
       " (7, 8): <gurobi.Var *Awaiting Model Update*>,\n",
       " (7, 9): <gurobi.Var *Awaiting Model Update*>,\n",
       " (7, 10): <gurobi.Var *Awaiting Model Update*>,\n",
       " (8, 0): <gurobi.Var *Awaiting Model Update*>,\n",
       " (8, 1): <gurobi.Var *Awaiting Model Update*>,\n",
       " (8, 2): <gurobi.Var *Awaiting Model Update*>,\n",
       " (8, 3): <gurobi.Var *Awaiting Model Update*>,\n",
       " (8, 4): <gurobi.Var *Awaiting Model Update*>,\n",
       " (8, 5): <gurobi.Var *Awaiting Model Update*>,\n",
       " (8, 6): <gurobi.Var *Awaiting Model Update*>,\n",
       " (8, 7): <gurobi.Var *Awaiting Model Update*>,\n",
       " (8, 9): <gurobi.Var *Awaiting Model Update*>,\n",
       " (8, 10): <gurobi.Var *Awaiting Model Update*>,\n",
       " (9, 0): <gurobi.Var *Awaiting Model Update*>,\n",
       " (9, 1): <gurobi.Var *Awaiting Model Update*>,\n",
       " (9, 2): <gurobi.Var *Awaiting Model Update*>,\n",
       " (9, 3): <gurobi.Var *Awaiting Model Update*>,\n",
       " (9, 4): <gurobi.Var *Awaiting Model Update*>,\n",
       " (9, 5): <gurobi.Var *Awaiting Model Update*>,\n",
       " (9, 6): <gurobi.Var *Awaiting Model Update*>,\n",
       " (9, 7): <gurobi.Var *Awaiting Model Update*>,\n",
       " (9, 8): <gurobi.Var *Awaiting Model Update*>,\n",
       " (9, 10): <gurobi.Var *Awaiting Model Update*>,\n",
       " (10, 0): <gurobi.Var *Awaiting Model Update*>,\n",
       " (10, 1): <gurobi.Var *Awaiting Model Update*>,\n",
       " (10, 2): <gurobi.Var *Awaiting Model Update*>,\n",
       " (10, 3): <gurobi.Var *Awaiting Model Update*>,\n",
       " (10, 4): <gurobi.Var *Awaiting Model Update*>,\n",
       " (10, 5): <gurobi.Var *Awaiting Model Update*>,\n",
       " (10, 6): <gurobi.Var *Awaiting Model Update*>,\n",
       " (10, 7): <gurobi.Var *Awaiting Model Update*>,\n",
       " (10, 8): <gurobi.Var *Awaiting Model Update*>,\n",
       " (10, 9): <gurobi.Var *Awaiting Model Update*>}"
      ]
     },
     "execution_count": 29,
     "metadata": {},
     "output_type": "execute_result"
    }
   ],
   "source": [
    "x"
   ]
  },
  {
   "cell_type": "code",
   "execution_count": 32,
   "id": "8e2aa072",
   "metadata": {},
   "outputs": [],
   "source": [
    "# setup the goal of this model going to achieve\n",
    "# minimize the total distance\n",
    "mdl.modelSense = GRB.MINIMIZE\n",
    "mdl.setObjective(quicksum(x[i,j]*c[i,j] for i,j in A))"
   ]
  },
  {
   "cell_type": "code",
   "execution_count": 33,
   "id": "471f07d1",
   "metadata": {},
   "outputs": [
    {
     "data": {
      "text/plain": [
       "{1: <gurobi.Constr *Awaiting Model Update*>,\n",
       " 2: <gurobi.Constr *Awaiting Model Update*>,\n",
       " 3: <gurobi.Constr *Awaiting Model Update*>,\n",
       " 4: <gurobi.Constr *Awaiting Model Update*>,\n",
       " 5: <gurobi.Constr *Awaiting Model Update*>,\n",
       " 6: <gurobi.Constr *Awaiting Model Update*>,\n",
       " 7: <gurobi.Constr *Awaiting Model Update*>,\n",
       " 8: <gurobi.Constr *Awaiting Model Update*>,\n",
       " 9: <gurobi.Constr *Awaiting Model Update*>,\n",
       " 10: <gurobi.Constr *Awaiting Model Update*>}"
      ]
     },
     "execution_count": 33,
     "metadata": {},
     "output_type": "execute_result"
    }
   ],
   "source": [
    "# adding constraints for the model\n",
    "mdl.addConstrs(quicksum(x[i, j] for j in V if j != i) == 1 for i in N)\n",
    "mdl.addConstrs(quicksum(x[i, j] for i in V if i != j) == 1 for j in N)\n",
    "mdl.addConstrs((x[i, j] == 1) >> (u[i]+q[j] == u[j])\n",
    "               for i, j in A if i != 0 and j != 0)\n",
    "mdl.addConstrs(u[i] >= q[i] for i in N)\n",
    "mdl.addConstrs(u[i] <= Q for i in N)"
   ]
  },
  {
   "cell_type": "code",
   "execution_count": 34,
   "id": "273d7719",
   "metadata": {},
   "outputs": [
    {
     "name": "stdout",
     "output_type": "stream",
     "text": [
      "Set parameter MIPGap to value 0.1\n",
      "Set parameter TimeLimit to value 30\n",
      "Gurobi Optimizer version 11.0.0 build v11.0.0rc2 (mac64[arm] - Darwin 21.5.0 21F79)\n",
      "\n",
      "CPU model: Apple M1\n",
      "Thread count: 8 physical cores, 8 logical processors, using up to 8 threads\n",
      "\n",
      "Optimize a model with 40 rows, 120 columns and 220 nonzeros\n",
      "Model fingerprint: 0x949b8c87\n",
      "Model has 90 general constraints\n",
      "Variable types: 10 continuous, 110 integer (110 binary)\n",
      "Coefficient statistics:\n",
      "  Matrix range     [1e+00, 1e+00]\n",
      "  Objective range  [2e+01, 1e+02]\n",
      "  Bounds range     [1e+00, 1e+00]\n",
      "  RHS range        [1e+00, 2e+01]\n",
      "  GenCon rhs range [1e+00, 8e+00]\n",
      "  GenCon coe range [1e+00, 1e+00]\n",
      "Presolve added 93 rows and 0 columns\n",
      "Presolve removed 0 rows and 14 columns\n",
      "Presolve time: 0.03s\n",
      "Presolved: 133 rows, 106 columns, 602 nonzeros\n",
      "Variable types: 16 continuous, 90 integer (90 binary)\n",
      "Found heuristic solution: objective 717.5891594\n",
      "\n",
      "Root relaxation: objective 3.077459e+02, 41 iterations, 0.00 seconds (0.00 work units)\n",
      "\n",
      "    Nodes    |    Current Node    |     Objective Bounds      |     Work\n",
      " Expl Unexpl |  Obj  Depth IntInf | Incumbent    BestBd   Gap | It/Node Time\n",
      "\n",
      "     0     0  307.74592    0   20  717.58916  307.74592  57.1%     -    0s\n",
      "H    0     0                     686.1456953  307.74592  55.1%     -    0s\n",
      "H    0     0                     525.8818956  307.74592  41.5%     -    0s\n",
      "H    0     0                     482.1503453  307.74592  36.2%     -    0s\n",
      "H    0     0                     479.5887404  307.74592  35.8%     -    0s\n",
      "     0     0  321.70487    0   20  479.58874  321.70487  32.9%     -    0s\n",
      "H    0     0                     477.8512583  334.57940  30.0%     -    0s\n",
      "H    0     0                     469.7367681  334.57940  28.8%     -    0s\n",
      "     0     0  352.58143    0   21  469.73677  352.58143  24.9%     -    0s\n",
      "     0     0  353.07464    0   24  469.73677  353.07464  24.8%     -    0s\n",
      "     0     0  353.07464    0   22  469.73677  353.07464  24.8%     -    0s\n",
      "     0     0  353.07464    0   22  469.73677  353.07464  24.8%     -    0s\n",
      "     0     0  353.07464    0   22  469.73677  353.07464  24.8%     -    0s\n",
      "     0     0  353.07464    0   22  469.73677  353.07464  24.8%     -    0s\n",
      "     0     0  353.36525    0   22  469.73677  353.36525  24.8%     -    0s\n",
      "     0     0  358.06448    0   24  469.73677  358.06448  23.8%     -    0s\n",
      "     0     0  358.06448    0   24  469.73677  358.06448  23.8%     -    0s\n",
      "     0     0  364.71509    0   27  469.73677  364.71509  22.4%     -    0s\n",
      "     0     0  371.54654    0   29  469.73677  371.54654  20.9%     -    0s\n",
      "     0     0  371.54654    0   31  469.73677  371.54654  20.9%     -    0s\n",
      "     0     0  371.54654    0   30  469.73677  371.54654  20.9%     -    0s\n",
      "     0     0  371.54654    0   30  469.73677  371.54654  20.9%     -    0s\n",
      "     0     0  371.54654    0   22  469.73677  371.54654  20.9%     -    0s\n",
      "     0     0  371.96013    0   22  469.73677  371.96013  20.8%     -    0s\n",
      "     0     0  371.96013    0   23  469.73677  371.96013  20.8%     -    0s\n",
      "     0     0  372.12252    0   23  469.73677  372.12252  20.8%     -    0s\n",
      "     0     0  372.12252    0   30  469.73677  372.12252  20.8%     -    0s\n",
      "     0     0  373.17623    0   31  469.73677  373.17623  20.6%     -    0s\n",
      "     0     0  373.17623    0   31  469.73677  373.17623  20.6%     -    0s\n",
      "     0     0  373.17623    0   29  469.73677  373.17623  20.6%     -    0s\n",
      "     0     2  373.17623    0   28  469.73677  373.17623  20.6%     -    0s\n",
      "\n",
      "Cutting planes:\n",
      "  Gomory: 2\n",
      "  Cover: 6\n",
      "  Implied bound: 20\n",
      "  MIR: 12\n",
      "  GUB cover: 4\n",
      "  Zero half: 1\n",
      "  Relax-and-lift: 11\n",
      "\n",
      "Explored 1415 nodes (13650 simplex iterations) in 0.30 seconds (0.11 work units)\n",
      "Thread count was 8 (of 8 available processors)\n",
      "\n",
      "Solution count 7: 469.737 477.851 479.589 ... 717.589\n",
      "\n",
      "Optimal solution found (tolerance 1.00e-01)\n",
      "Best objective 4.697367680848e+02, best bound 4.230523146416e+02, gap 9.9384%\n"
     ]
    }
   ],
   "source": [
    "mdl.Params.MIPGap = 0.1\n",
    "mdl.Params.TimeLimit = 30  # seconds\n",
    "mdl.optimize()"
   ]
  },
  {
   "cell_type": "code",
   "execution_count": 39,
   "id": "d18a7a90",
   "metadata": {},
   "outputs": [],
   "source": [
    "active_arcs = [a for a in A if x[a].x > 0.999]"
   ]
  },
  {
   "cell_type": "code",
   "execution_count": 40,
   "id": "bbe1cee9",
   "metadata": {},
   "outputs": [
    {
     "data": {
      "text/plain": [
       "<matplotlib.collections.PathCollection at 0x11f50a0d0>"
      ]
     },
     "execution_count": 40,
     "metadata": {},
     "output_type": "execute_result"
    },
    {
     "data": {
      "image/png": "[encoded data removed]",
      "text/plain": [
       "<Figure size 640x480 with 1 Axes>"
      ]
     },
     "metadata": {},
     "output_type": "display_data"
    }
   ],
   "source": [
    "for i, j in active_arcs:\n",
    "    plt.plot([xc[i], xc[j]], [yc[i], yc[j]], c='g', zorder=0)\n",
    "plt.plot(xc[0], yc[0], c='r', marker='s')\n",
    "plt.scatter(xc[1:], yc[1:], c='b')"
   ]
  },
  {
   "cell_type": "code",
   "execution_count": 42,
   "id": "813f5ae8",
   "metadata": {},
   "outputs": [
    {
     "data": {
      "text/plain": [
       "[(0, 2),\n",
       " (0, 4),\n",
       " (0, 6),\n",
       " (1, 0),\n",
       " (2, 10),\n",
       " (3, 5),\n",
       " (4, 3),\n",
       " (5, 0),\n",
       " (6, 9),\n",
       " (7, 1),\n",
       " (8, 7),\n",
       " (9, 0),\n",
       " (10, 8)]"
      ]
     },
     "execution_count": 42,
     "metadata": {},
     "output_type": "execute_result"
    }
   ],
   "source": [
    "active_arcs"
   ]
  },
  {
   "cell_type": "code",
   "execution_count": null,
   "id": "61719b7d",
   "metadata": {},
   "outputs": [],
   "source": []
  }
 ],
 "metadata": {
  "kernelspec": {
   "display_name": "Python 3 (ipykernel)",
   "language": "python",
   "name": "python3"
  },
  "language_info": {
   "codemirror_mode": {
    "name": "ipython",
    "version": 3
   },
   "file_extension": ".py",
   "mimetype": "text/x-python",
   "name": "python",
   "nbconvert_exporter": "python",
   "pygments_lexer": "ipython3",
   "version": "3.11.5"
  }
 },
 "nbformat": 4,
 "nbformat_minor": 5
}
