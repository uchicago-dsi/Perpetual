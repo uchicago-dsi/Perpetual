{
 "cells": [
  {
   "attachments": {},
   "cell_type": "markdown",
   "id": "b4877b66",
   "metadata": {},
   "source": [
    "#### This jupyter notebook is revised from https://pysal.org/spopt/notebooks/skater.html. You can check the explanation in this link for details"
   ]
  },
  {
   "cell_type": "code",
   "execution_count": 4,
   "id": "ac5cf132",
   "metadata": {},
   "outputs": [
    {
     "name": "stdout",
     "output_type": "stream",
     "text": [
      "The watermark extension is already loaded. To reload it, use:\n",
      "  %reload_ext watermark\n",
      "Last updated: 2023-02-22T16:52:48.174065-06:00\n",
      "\n",
      "Python implementation: CPython\n",
      "Python version       : 3.9.1\n",
      "IPython version      : 8.2.0\n",
      "\n",
      "Compiler    : MSC v.1927 64 bit (AMD64)\n",
      "OS          : Windows\n",
      "Release     : 10\n",
      "Machine     : AMD64\n",
      "Processor   : Intel64 Family 6 Model 165 Stepping 2, GenuineIntel\n",
      "CPU cores   : 12\n",
      "Architecture: 64bit\n",
      "\n",
      "Watermark: 2.3.1\n",
      "\n",
      "sklearn   : 0.0\n",
      "spopt     : 0.5.0\n",
      "matplotlib: 3.5.1\n",
      "pandas    : 1.4.2\n",
      "libpysal  : 4.7.0\n",
      "geopandas : 0.12.0\n",
      "numpy     : 1.23.3\n",
      "shapely   : 1.8.5.post1\n",
      "\n"
     ]
    }
   ],
   "source": [
    "%config InlineBackend.figure_format = \"retina\"\n",
    "%load_ext watermark\n",
    "%watermark\n",
    "import geopandas\n",
    "import libpysal\n",
    "import matplotlib.pyplot as plt\n",
    "import numpy\n",
    "import pandas\n",
    "import shapely\n",
    "from sklearn.metrics import pairwise as skm\n",
    "import spopt\n",
    "import warnings\n",
    "%matplotlib inline\n",
    "%watermark -w\n",
    "%watermark -iv"
   ]
  },
  {
   "cell_type": "code",
   "execution_count": 5,
   "id": "c1501d2d",
   "metadata": {},
   "outputs": [],
   "source": [
    "# This function is revised based on the process in the skater link above. \n",
    "# The whole process is: 1. load the shapefile 2. use the weight column in the shapefile (weight is determined in the K-mean collecion point notebook)\n",
    "# 3. Set the parameters of the algorithm (e.g. n_clusters) 4. Run the skater model and assign the label to the shapefile\n",
    "def get_skater_output(dataset, num_of_cluster, column_name):\n",
    "    '''\n",
    "    Perform skater with givin dataset and number of cluster\n",
    "    \n",
    "    Arg:\n",
    "        dataset (shp or GeoJSON): the dataset we want to cluster\n",
    "        num_of_cluster (int): number of cluster we want\n",
    "        column_name (str): the column name we want to use as weight\n",
    "    '''\n",
    "    parcel = geopandas.read_file(dataset)\n",
    "    # The column I use as weight\n",
    "    attrs_name = [column_name]\n",
    "    w = libpysal.weights.Queen.from_dataframe(parcel)\n",
    "    # Number of clusters. Warning: n_clusters here won't be the exact number of clusters we got. We will got\n",
    "    # more clusters than this number\n",
    "    n_clusters = num_of_cluster\n",
    "    trace = False\n",
    "    islands = \"increase\"\n",
    "    spanning_forest_kwds = dict(\n",
    "        dissimilarity=skm.manhattan_distances,\n",
    "        affinity=None,\n",
    "        reduction=numpy.sum,\n",
    "        center=numpy.mean,\n",
    "        verbose=2\n",
    "    )\n",
    "    model = spopt.region.Skater(\n",
    "    parcel,\n",
    "    w,\n",
    "    attrs_name,\n",
    "    n_clusters=n_clusters,\n",
    "    trace=trace,\n",
    "    spanning_forest_kwds=spanning_forest_kwds\n",
    "    )\n",
    "    model.solve()\n",
    "    # Assign the label\n",
    "    parcel[\"label\"] = model.labels_\n",
    "    # Produce the shapefile as the output\n",
    "    parcel.to_file(\"result.shp\")"
   ]
  },
  {
   "cell_type": "code",
   "execution_count": 8,
   "id": "03241c95",
   "metadata": {},
   "outputs": [
    {
     "name": "stdout",
     "output_type": "stream",
     "text": [
      "Computing Affinity Kernel took 0.00s\n",
      "Computing initial MST took 0.00s\n",
      "Computing connected components took 0.00s.\n"
     ]
    },
    {
     "name": "stderr",
     "output_type": "stream",
     "text": [
      "d:\\python\\lib\\site-packages\\libpysal\\weights\\weights.py:172: UserWarning: The weights matrix is not fully connected: \n",
      " There are 21 disconnected components.\n",
      " There are 15 islands with ids: 4, 7, 28, 44, 81, 922, 1224, 1236, 1253, 1261, 1264, 1265, 1269, 1270, 1331.\n",
      "  warnings.warn(message)\n",
      "d:\\python\\lib\\site-packages\\spopt\\region\\skater.py:537: OptimizeWarning: By default, the graph is disconnected! Increasing `n_clusters` from 50 to 71 in order to account for islands.\n",
      "  model.fit(\n"
     ]
    },
    {
     "data": {
      "application/vnd.jupyter.widget-view+json": {
       "model_id": "3f95592e937d4aeaaa2dc4eb8cab4f7e",
       "version_major": 2,
       "version_minor": 0
      },
      "text/plain": [
       "finding cut...:   0%|          | 0/1338 [00:00<?, ?it/s]"
      ]
     },
     "metadata": {},
     "output_type": "display_data"
    },
    {
     "name": "stdout",
     "output_type": "stream",
     "text": [
      "making cut deletion(in_node=661, out_node=1314, score=0.005225633893941242)...\n"
     ]
    },
    {
     "data": {
      "application/vnd.jupyter.widget-view+json": {
       "model_id": "5e04b2ac59be42d8ba6d1a5c2d39c40d",
       "version_major": 2,
       "version_minor": 0
      },
      "text/plain": [
       "finding cut...:   0%|          | 0/1337 [00:00<?, ?it/s]"
      ]
     },
     "metadata": {},
     "output_type": "display_data"
    },
    {
     "name": "stdout",
     "output_type": "stream",
     "text": [
      "making cut deletion(in_node=1314, out_node=640, score=0.005035681684315531)...\n"
     ]
    },
    {
     "data": {
      "application/vnd.jupyter.widget-view+json": {
       "model_id": "4447bb6461274246af69adc2e275734d",
       "version_major": 2,
       "version_minor": 0
      },
      "text/plain": [
       "finding cut...:   0%|          | 0/1336 [00:00<?, ?it/s]"
      ]
     },
     "metadata": {},
     "output_type": "display_data"
    },
    {
     "name": "stdout",
     "output_type": "stream",
     "text": [
      "making cut deletion(in_node=1314, out_node=617, score=0.004866133378881993)...\n"
     ]
    },
    {
     "data": {
      "application/vnd.jupyter.widget-view+json": {
       "model_id": "a671bbc2fc814f5bab0c2eb96eabd537",
       "version_major": 2,
       "version_minor": 0
      },
      "text/plain": [
       "finding cut...:   0%|          | 0/1335 [00:00<?, ?it/s]"
      ]
     },
     "metadata": {},
     "output_type": "display_data"
    },
    {
     "name": "stdout",
     "output_type": "stream",
     "text": [
      "making cut deletion(in_node=316, out_node=1314, score=0.004718994286259369)...\n"
     ]
    },
    {
     "data": {
      "application/vnd.jupyter.widget-view+json": {
       "model_id": "aeabfd3ebd6e40caa78010731d578686",
       "version_major": 2,
       "version_minor": 0
      },
      "text/plain": [
       "finding cut...:   0%|          | 0/1334 [00:00<?, ?it/s]"
      ]
     },
     "metadata": {},
     "output_type": "display_data"
    },
    {
     "name": "stdout",
     "output_type": "stream",
     "text": [
      "making cut deletion(in_node=1249, out_node=776, score=0.004647843169829569)...\n"
     ]
    },
    {
     "data": {
      "application/vnd.jupyter.widget-view+json": {
       "model_id": "e1fec5f0c91e4c6ca78c7333c02bca29",
       "version_major": 2,
       "version_minor": 0
      },
      "text/plain": [
       "finding cut...:   0%|          | 0/1333 [00:00<?, ?it/s]"
      ]
     },
     "metadata": {},
     "output_type": "display_data"
    },
    {
     "name": "stdout",
     "output_type": "stream",
     "text": [
      "making cut deletion(in_node=33, out_node=776, score=0.0042254399653485685)...\n"
     ]
    },
    {
     "data": {
      "application/vnd.jupyter.widget-view+json": {
       "model_id": "41ec651d827d4caf896ca723ddf712c4",
       "version_major": 2,
       "version_minor": 0
      },
      "text/plain": [
       "finding cut...:   0%|          | 0/1332 [00:00<?, ?it/s]"
      ]
     },
     "metadata": {},
     "output_type": "display_data"
    },
    {
     "name": "stdout",
     "output_type": "stream",
     "text": [
      "making cut deletion(in_node=1221, out_node=1232, score=0.004176984132485835)...\n"
     ]
    },
    {
     "data": {
      "application/vnd.jupyter.widget-view+json": {
       "model_id": "f42d6f1be3614fea91e5be10af0217ca",
       "version_major": 2,
       "version_minor": 0
      },
      "text/plain": [
       "finding cut...:   0%|          | 0/1331 [00:00<?, ?it/s]"
      ]
     },
     "metadata": {},
     "output_type": "display_data"
    },
    {
     "name": "stdout",
     "output_type": "stream",
     "text": [
      "making cut deletion(in_node=1233, out_node=1232, score=0.004098057095272501)...\n"
     ]
    },
    {
     "data": {
      "application/vnd.jupyter.widget-view+json": {
       "model_id": "1b44e633a3f1477a909dc7831baea70b",
       "version_major": 2,
       "version_minor": 0
      },
      "text/plain": [
       "finding cut...:   0%|          | 0/1330 [00:00<?, ?it/s]"
      ]
     },
     "metadata": {},
     "output_type": "display_data"
    },
    {
     "name": "stdout",
     "output_type": "stream",
     "text": [
      "making cut deletion(in_node=760, out_node=1314, score=0.004050328996457605)...\n"
     ]
    },
    {
     "data": {
      "application/vnd.jupyter.widget-view+json": {
       "model_id": "d7181fdbbbaf4d3f8b837910c1f169f7",
       "version_major": 2,
       "version_minor": 0
      },
      "text/plain": [
       "finding cut...:   0%|          | 0/1329 [00:00<?, ?it/s]"
      ]
     },
     "metadata": {},
     "output_type": "display_data"
    },
    {
     "name": "stdout",
     "output_type": "stream",
     "text": [
      "making cut deletion(in_node=686, out_node=1314, score=0.0040031667445)...\n"
     ]
    },
    {
     "data": {
      "application/vnd.jupyter.widget-view+json": {
       "model_id": "55fcefd91ebc4611bc292b119bcd43aa",
       "version_major": 2,
       "version_minor": 0
      },
      "text/plain": [
       "finding cut...:   0%|          | 0/1328 [00:00<?, ?it/s]"
      ]
     },
     "metadata": {},
     "output_type": "display_data"
    },
    {
     "name": "stdout",
     "output_type": "stream",
     "text": [
      "making cut deletion(in_node=465, out_node=1314, score=0.003959555368240567)...\n"
     ]
    },
    {
     "data": {
      "application/vnd.jupyter.widget-view+json": {
       "model_id": "f88853cc55424e68b49bc45723725f0f",
       "version_major": 2,
       "version_minor": 0
      },
      "text/plain": [
       "finding cut...:   0%|          | 0/1327 [00:00<?, ?it/s]"
      ]
     },
     "metadata": {},
     "output_type": "display_data"
    },
    {
     "name": "stdout",
     "output_type": "stream",
     "text": [
      "making cut deletion(in_node=5, out_node=0, score=0.0039164133273597345)...\n"
     ]
    },
    {
     "data": {
      "application/vnd.jupyter.widget-view+json": {
       "model_id": "c2dab9d2847d4638ad9798b80df72374",
       "version_major": 2,
       "version_minor": 0
      },
      "text/plain": [
       "finding cut...:   0%|          | 0/1326 [00:00<?, ?it/s]"
      ]
     },
     "metadata": {},
     "output_type": "display_data"
    },
    {
     "name": "stdout",
     "output_type": "stream",
     "text": [
      "making cut deletion(in_node=1, out_node=0, score=0.003831395321919068)...\n"
     ]
    },
    {
     "data": {
      "application/vnd.jupyter.widget-view+json": {
       "model_id": "cb77d7072c714e03afb4e72b507ccbde",
       "version_major": 2,
       "version_minor": 0
      },
      "text/plain": [
       "finding cut...:   0%|          | 0/1325 [00:00<?, ?it/s]"
      ]
     },
     "metadata": {},
     "output_type": "display_data"
    },
    {
     "name": "stdout",
     "output_type": "stream",
     "text": [
      "making cut deletion(in_node=316, out_node=0, score=0.003702259540349068)...\n"
     ]
    },
    {
     "data": {
      "application/vnd.jupyter.widget-view+json": {
       "model_id": "435e415eff51417d950806a85fed0f02",
       "version_major": 2,
       "version_minor": 0
      },
      "text/plain": [
       "finding cut...:   0%|          | 0/1324 [00:00<?, ?it/s]"
      ]
     },
     "metadata": {},
     "output_type": "display_data"
    },
    {
     "name": "stdout",
     "output_type": "stream",
     "text": [
      "making cut deletion(in_node=857, out_node=1194, score=0.0036602001655573614)...\n"
     ]
    },
    {
     "data": {
      "application/vnd.jupyter.widget-view+json": {
       "model_id": "01d92dd7e42642f0b936649f8f2bd0eb",
       "version_major": 2,
       "version_minor": 0
      },
      "text/plain": [
       "finding cut...:   0%|          | 0/1323 [00:00<?, ?it/s]"
      ]
     },
     "metadata": {},
     "output_type": "display_data"
    },
    {
     "name": "stdout",
     "output_type": "stream",
     "text": [
      "making cut deletion(in_node=269, out_node=1314, score=0.0036274543704523997)...\n"
     ]
    },
    {
     "data": {
      "application/vnd.jupyter.widget-view+json": {
       "model_id": "f7d5f664ae4f47a68577ff5731e61b1d",
       "version_major": 2,
       "version_minor": 0
      },
      "text/plain": [
       "finding cut...:   0%|          | 0/1322 [00:00<?, ?it/s]"
      ]
     },
     "metadata": {},
     "output_type": "display_data"
    },
    {
     "name": "stdout",
     "output_type": "stream",
     "text": [
      "making cut deletion(in_node=1314, out_node=759, score=0.003595071296868973)...\n"
     ]
    },
    {
     "data": {
      "application/vnd.jupyter.widget-view+json": {
       "model_id": "5f8856eb524541af85d733fa7ff85365",
       "version_major": 2,
       "version_minor": 0
      },
      "text/plain": [
       "finding cut...:   0%|          | 0/1321 [00:00<?, ?it/s]"
      ]
     },
     "metadata": {},
     "output_type": "display_data"
    },
    {
     "name": "stdout",
     "output_type": "stream",
     "text": [
      "making cut deletion(in_node=1314, out_node=1229, score=0.0035640572284726334)...\n"
     ]
    },
    {
     "data": {
      "application/vnd.jupyter.widget-view+json": {
       "model_id": "f4dc3ca3cd284e3b9375dcead2ff8053",
       "version_major": 2,
       "version_minor": 0
      },
      "text/plain": [
       "finding cut...:   0%|          | 0/1320 [00:00<?, ?it/s]"
      ]
     },
     "metadata": {},
     "output_type": "display_data"
    },
    {
     "name": "stdout",
     "output_type": "stream",
     "text": [
      "making cut deletion(in_node=153, out_node=170, score=0.0035343998570296336)...\n"
     ]
    },
    {
     "data": {
      "application/vnd.jupyter.widget-view+json": {
       "model_id": "b34e0e460dad425a9f4d7a0b805777f3",
       "version_major": 2,
       "version_minor": 0
      },
      "text/plain": [
       "finding cut...:   0%|          | 0/1319 [00:00<?, ?it/s]"
      ]
     },
     "metadata": {},
     "output_type": "display_data"
    },
    {
     "name": "stdout",
     "output_type": "stream",
     "text": [
      "making cut deletion(in_node=1314, out_node=634, score=0.0035073527790203986)...\n"
     ]
    },
    {
     "data": {
      "application/vnd.jupyter.widget-view+json": {
       "model_id": "8e770af4418945ef9ba72cc300cc5ea9",
       "version_major": 2,
       "version_minor": 0
      },
      "text/plain": [
       "finding cut...:   0%|          | 0/1318 [00:00<?, ?it/s]"
      ]
     },
     "metadata": {},
     "output_type": "display_data"
    },
    {
     "name": "stdout",
     "output_type": "stream",
     "text": [
      "making cut deletion(in_node=601, out_node=634, score=0.003451886848719398)...\n"
     ]
    },
    {
     "data": {
      "application/vnd.jupyter.widget-view+json": {
       "model_id": "1b90bae1ef9e44d2830b534e0959e227",
       "version_major": 2,
       "version_minor": 0
      },
      "text/plain": [
       "finding cut...:   0%|          | 0/1317 [00:00<?, ?it/s]"
      ]
     },
     "metadata": {},
     "output_type": "display_data"
    },
    {
     "name": "stdout",
     "output_type": "stream",
     "text": [
      "making cut deletion(in_node=767, out_node=769, score=0.003426695655902095)...\n"
     ]
    },
    {
     "data": {
      "application/vnd.jupyter.widget-view+json": {
       "model_id": "75d5e0bd60c24fd1b7ac8128b4180696",
       "version_major": 2,
       "version_minor": 0
      },
      "text/plain": [
       "finding cut...:   0%|          | 0/1316 [00:00<?, ?it/s]"
      ]
     },
     "metadata": {},
     "output_type": "display_data"
    },
    {
     "name": "stdout",
     "output_type": "stream",
     "text": [
      "making cut deletion(in_node=686, out_node=665, score=0.0034015970830016946)...\n"
     ]
    },
    {
     "data": {
      "application/vnd.jupyter.widget-view+json": {
       "model_id": "f734c394c3054ece900219b275b652d1",
       "version_major": 2,
       "version_minor": 0
      },
      "text/plain": [
       "finding cut...:   0%|          | 0/1315 [00:00<?, ?it/s]"
      ]
     },
     "metadata": {},
     "output_type": "display_data"
    },
    {
     "name": "stdout",
     "output_type": "stream",
     "text": [
      "making cut deletion(in_node=661, out_node=33, score=0.0033786932614996946)...\n"
     ]
    },
    {
     "data": {
      "application/vnd.jupyter.widget-view+json": {
       "model_id": "4de806d66bea4c6db6623cb1c7f0bb20",
       "version_major": 2,
       "version_minor": 0
      },
      "text/plain": [
       "finding cut...:   0%|          | 0/1314 [00:00<?, ?it/s]"
      ]
     },
     "metadata": {},
     "output_type": "display_data"
    },
    {
     "name": "stdout",
     "output_type": "stream",
     "text": [
      "making cut deletion(in_node=33, out_node=288, score=0.0033158756717736946)...\n"
     ]
    },
    {
     "data": {
      "application/vnd.jupyter.widget-view+json": {
       "model_id": "0cdc9953e7874b668e658f557c8a95b1",
       "version_major": 2,
       "version_minor": 0
      },
      "text/plain": [
       "finding cut...:   0%|          | 0/1313 [00:00<?, ?it/s]"
      ]
     },
     "metadata": {},
     "output_type": "display_data"
    },
    {
     "name": "stdout",
     "output_type": "stream",
     "text": [
      "making cut deletion(in_node=269, out_node=322, score=0.0032941318074852944)...\n"
     ]
    },
    {
     "data": {
      "application/vnd.jupyter.widget-view+json": {
       "model_id": "e9d07945ef1e473c91d262e5938f208c",
       "version_major": 2,
       "version_minor": 0
      },
      "text/plain": [
       "finding cut...:   0%|          | 0/1312 [00:00<?, ?it/s]"
      ]
     },
     "metadata": {},
     "output_type": "display_data"
    },
    {
     "name": "stdout",
     "output_type": "stream",
     "text": [
      "making cut deletion(in_node=367, out_node=305, score=0.0032594591167099613)...\n"
     ]
    },
    {
     "data": {
      "application/vnd.jupyter.widget-view+json": {
       "model_id": "56b9a34926e645d49f628810c348c084",
       "version_major": 2,
       "version_minor": 0
      },
      "text/plain": [
       "finding cut...:   0%|          | 0/1311 [00:00<?, ?it/s]"
      ]
     },
     "metadata": {},
     "output_type": "display_data"
    },
    {
     "name": "stdout",
     "output_type": "stream",
     "text": [
      "making cut deletion(in_node=285, out_node=269, score=0.003201939126090295)...\n"
     ]
    },
    {
     "data": {
      "application/vnd.jupyter.widget-view+json": {
       "model_id": "323108714b3c40448db99a809edee7a9",
       "version_major": 2,
       "version_minor": 0
      },
      "text/plain": [
       "finding cut...:   0%|          | 0/1310 [00:00<?, ?it/s]"
      ]
     },
     "metadata": {},
     "output_type": "display_data"
    },
    {
     "name": "stdout",
     "output_type": "stream",
     "text": [
      "making cut deletion(in_node=229, out_node=1314, score=0.0031824939134416246)...\n"
     ]
    },
    {
     "data": {
      "application/vnd.jupyter.widget-view+json": {
       "model_id": "0830e2fd67134692b2f79556d86745a1",
       "version_major": 2,
       "version_minor": 0
      },
      "text/plain": [
       "finding cut...:   0%|          | 0/1309 [00:00<?, ?it/s]"
      ]
     },
     "metadata": {},
     "output_type": "display_data"
    },
    {
     "name": "stdout",
     "output_type": "stream",
     "text": [
      "making cut deletion(in_node=641, out_node=1314, score=0.003163958830220973)...\n"
     ]
    },
    {
     "data": {
      "application/vnd.jupyter.widget-view+json": {
       "model_id": "35b72299f2764bf7bdda0f696d8fe593",
       "version_major": 2,
       "version_minor": 0
      },
      "text/plain": [
       "finding cut...:   0%|          | 0/1308 [00:00<?, ?it/s]"
      ]
     },
     "metadata": {},
     "output_type": "display_data"
    },
    {
     "name": "stdout",
     "output_type": "stream",
     "text": [
      "making cut deletion(in_node=368, out_node=201, score=0.003145508321860629)...\n"
     ]
    },
    {
     "data": {
      "application/vnd.jupyter.widget-view+json": {
       "model_id": "a0c625e3997c45dfb723dbd0f0a68ad0",
       "version_major": 2,
       "version_minor": 0
      },
      "text/plain": [
       "finding cut...:   0%|          | 0/1307 [00:00<?, ?it/s]"
      ]
     },
     "metadata": {},
     "output_type": "display_data"
    },
    {
     "name": "stdout",
     "output_type": "stream",
     "text": [
      "making cut deletion(in_node=1314, out_node=655, score=0.0031281150645324483)...\n"
     ]
    },
    {
     "data": {
      "application/vnd.jupyter.widget-view+json": {
       "model_id": "894d256e31e1487c848db1d0d16280de",
       "version_major": 2,
       "version_minor": 0
      },
      "text/plain": [
       "finding cut...:   0%|          | 0/1306 [00:00<?, ?it/s]"
      ]
     },
     "metadata": {},
     "output_type": "display_data"
    },
    {
     "name": "stdout",
     "output_type": "stream",
     "text": [
      "making cut deletion(in_node=742, out_node=1314, score=0.003111345756480403)...\n"
     ]
    },
    {
     "data": {
      "application/vnd.jupyter.widget-view+json": {
       "model_id": "5cfff78f620a449797669f3039a0532b",
       "version_major": 2,
       "version_minor": 0
      },
      "text/plain": [
       "finding cut...:   0%|          | 0/1305 [00:00<?, ?it/s]"
      ]
     },
     "metadata": {},
     "output_type": "display_data"
    },
    {
     "name": "stdout",
     "output_type": "stream",
     "text": [
      "making cut deletion(in_node=1233, out_node=1230, score=0.003095511652184403)...\n"
     ]
    },
    {
     "data": {
      "application/vnd.jupyter.widget-view+json": {
       "model_id": "14687465c9524884bc4351a3235af588",
       "version_major": 2,
       "version_minor": 0
      },
      "text/plain": [
       "finding cut...:   0%|          | 0/1304 [00:00<?, ?it/s]"
      ]
     },
     "metadata": {},
     "output_type": "display_data"
    },
    {
     "name": "stdout",
     "output_type": "stream",
     "text": [
      "making cut deletion(in_node=1314, out_node=749, score=0.003080658367845378)...\n"
     ]
    },
    {
     "data": {
      "application/vnd.jupyter.widget-view+json": {
       "model_id": "75d650cd17f04aeaafca7d8c5fd8c40a",
       "version_major": 2,
       "version_minor": 0
      },
      "text/plain": [
       "finding cut...:   0%|          | 0/1303 [00:00<?, ?it/s]"
      ]
     },
     "metadata": {},
     "output_type": "display_data"
    },
    {
     "name": "stdout",
     "output_type": "stream",
     "text": [
      "making cut deletion(in_node=1314, out_node=747, score=0.0030659034076630644)...\n"
     ]
    },
    {
     "data": {
      "application/vnd.jupyter.widget-view+json": {
       "model_id": "5db19974bee746eaab98ec5242caf3b3",
       "version_major": 2,
       "version_minor": 0
      },
      "text/plain": [
       "finding cut...:   0%|          | 0/1302 [00:00<?, ?it/s]"
      ]
     },
     "metadata": {},
     "output_type": "display_data"
    },
    {
     "name": "stdout",
     "output_type": "stream",
     "text": [
      "making cut deletion(in_node=166, out_node=1314, score=0.003051875767923781)...\n"
     ]
    },
    {
     "data": {
      "application/vnd.jupyter.widget-view+json": {
       "model_id": "fe6d6d59d61946328b4c932fe3ac7219",
       "version_major": 2,
       "version_minor": 0
      },
      "text/plain": [
       "finding cut...:   0%|          | 0/1301 [00:00<?, ?it/s]"
      ]
     },
     "metadata": {},
     "output_type": "display_data"
    },
    {
     "name": "stdout",
     "output_type": "stream",
     "text": [
      "making cut deletion(in_node=744, out_node=1314, score=0.003038091887992549)...\n"
     ]
    },
    {
     "data": {
      "application/vnd.jupyter.widget-view+json": {
       "model_id": "ad044d74c93d4cca9a05e37ca60de333",
       "version_major": 2,
       "version_minor": 0
      },
      "text/plain": [
       "finding cut...:   0%|          | 0/1300 [00:00<?, ?it/s]"
      ]
     },
     "metadata": {},
     "output_type": "display_data"
    },
    {
     "name": "stdout",
     "output_type": "stream",
     "text": [
      "making cut deletion(in_node=898, out_node=927, score=0.0030245586157402237)...\n"
     ]
    },
    {
     "data": {
      "application/vnd.jupyter.widget-view+json": {
       "model_id": "5869ac0e81024f358c73d2832a60ef47",
       "version_major": 2,
       "version_minor": 0
      },
      "text/plain": [
       "finding cut...:   0%|          | 0/1299 [00:00<?, ?it/s]"
      ]
     },
     "metadata": {},
     "output_type": "display_data"
    },
    {
     "name": "stdout",
     "output_type": "stream",
     "text": [
      "making cut deletion(in_node=246, out_node=153, score=0.0030112999737353565)...\n"
     ]
    },
    {
     "data": {
      "application/vnd.jupyter.widget-view+json": {
       "model_id": "885d4c66dd4842c898e88c096598bc9d",
       "version_major": 2,
       "version_minor": 0
      },
      "text/plain": [
       "finding cut...:   0%|          | 0/1298 [00:00<?, ?it/s]"
      ]
     },
     "metadata": {},
     "output_type": "display_data"
    },
    {
     "name": "stdout",
     "output_type": "stream",
     "text": [
      "making cut deletion(in_node=1130, out_node=970, score=0.002998052100422576)...\n"
     ]
    },
    {
     "data": {
      "application/vnd.jupyter.widget-view+json": {
       "model_id": "f98d6db209ea485aab031d5d3bca5ba2",
       "version_major": 2,
       "version_minor": 0
      },
      "text/plain": [
       "finding cut...:   0%|          | 0/1297 [00:00<?, ?it/s]"
      ]
     },
     "metadata": {},
     "output_type": "display_data"
    },
    {
     "name": "stdout",
     "output_type": "stream",
     "text": [
      "making cut deletion(in_node=1130, out_node=1137, score=0.002968168638219576)...\n"
     ]
    },
    {
     "data": {
      "application/vnd.jupyter.widget-view+json": {
       "model_id": "0ff00d10c06b41d1aa39c3cee3a9a792",
       "version_major": 2,
       "version_minor": 0
      },
      "text/plain": [
       "finding cut...:   0%|          | 0/1296 [00:00<?, ?it/s]"
      ]
     },
     "metadata": {},
     "output_type": "display_data"
    },
    {
     "name": "stdout",
     "output_type": "stream",
     "text": [
      "making cut deletion(in_node=1314, out_node=194, score=0.0029551895294273327)...\n"
     ]
    },
    {
     "data": {
      "application/vnd.jupyter.widget-view+json": {
       "model_id": "481291c7b77c4828b405201b448a8696",
       "version_major": 2,
       "version_minor": 0
      },
      "text/plain": [
       "finding cut...:   0%|          | 0/1295 [00:00<?, ?it/s]"
      ]
     },
     "metadata": {},
     "output_type": "display_data"
    },
    {
     "name": "stdout",
     "output_type": "stream",
     "text": [
      "making cut deletion(in_node=961, out_node=950, score=0.0029422854823027062)...\n"
     ]
    },
    {
     "data": {
      "application/vnd.jupyter.widget-view+json": {
       "model_id": "89b7dea997314192b11e00479a40a1ec",
       "version_major": 2,
       "version_minor": 0
      },
      "text/plain": [
       "finding cut...:   0%|          | 0/1294 [00:00<?, ?it/s]"
      ]
     },
     "metadata": {},
     "output_type": "display_data"
    },
    {
     "name": "stdout",
     "output_type": "stream",
     "text": [
      "making cut deletion(in_node=1210, out_node=1218, score=0.0029302020683645525)...\n"
     ]
    },
    {
     "data": {
      "application/vnd.jupyter.widget-view+json": {
       "model_id": "778a0ee884e8453c97d980ca5f9c0404",
       "version_major": 2,
       "version_minor": 0
      },
      "text/plain": [
       "finding cut...:   0%|          | 0/1293 [00:00<?, ?it/s]"
      ]
     },
     "metadata": {},
     "output_type": "display_data"
    },
    {
     "name": "stdout",
     "output_type": "stream",
     "text": [
      "making cut deletion(in_node=1314, out_node=242, score=0.002918392362024889)...\n"
     ]
    },
    {
     "data": {
      "application/vnd.jupyter.widget-view+json": {
       "model_id": "1bd50b580a1f427f8f73a9e23f8a51da",
       "version_major": 2,
       "version_minor": 0
      },
      "text/plain": [
       "finding cut...:   0%|          | 0/1292 [00:00<?, ?it/s]"
      ]
     },
     "metadata": {},
     "output_type": "display_data"
    },
    {
     "name": "stdout",
     "output_type": "stream",
     "text": [
      "making cut deletion(in_node=697, out_node=702, score=0.00290663857865329)...\n"
     ]
    },
    {
     "data": {
      "application/vnd.jupyter.widget-view+json": {
       "model_id": "885fed70de05480281ec92f8c7162ce1",
       "version_major": 2,
       "version_minor": 0
      },
      "text/plain": [
       "finding cut...:   0%|          | 0/1291 [00:00<?, ?it/s]"
      ]
     },
     "metadata": {},
     "output_type": "display_data"
    },
    {
     "name": "stdout",
     "output_type": "stream",
     "text": [
      "making cut deletion(in_node=697, out_node=699, score=0.002892614644461956)...\n"
     ]
    },
    {
     "data": {
      "application/vnd.jupyter.widget-view+json": {
       "model_id": "c612a72603c24e1b837a9adc357bd0c5",
       "version_major": 2,
       "version_minor": 0
      },
      "text/plain": [
       "finding cut...:   0%|          | 0/1290 [00:00<?, ?it/s]"
      ]
     },
     "metadata": {},
     "output_type": "display_data"
    },
    {
     "name": "stdout",
     "output_type": "stream",
     "text": [
      "making cut deletion(in_node=665, out_node=668, score=0.002877978192848289)...\n"
     ]
    },
    {
     "data": {
      "application/vnd.jupyter.widget-view+json": {
       "model_id": "14e59ab40bd5422885dcf65654ab8672",
       "version_major": 2,
       "version_minor": 0
      },
      "text/plain": [
       "finding cut...:   0%|          | 0/1289 [00:00<?, ?it/s]"
      ]
     },
     "metadata": {},
     "output_type": "display_data"
    },
    {
     "name": "stdout",
     "output_type": "stream",
     "text": [
      "making cut deletion(in_node=697, out_node=665, score=0.0028611062294052894)...\n"
     ]
    }
   ],
   "source": [
    "# Produce the new shapefile that each parcel belongs to a cluster generated by Skater\n",
    "# I specify 50 n_clusters and \"weight\" as the weighted column but get 70+ clusters at last\n",
    "# The shapefile I used here, generated from the k-mean collection point jupyter notebook (I\n",
    "# generate the shapefile in the middle part of the hilo_kmean_collection_points_based_on_Izzy_60_points.ipynb under the\n",
    "# Hilo_collection_clustering_60 folder), is in the hilo_shapefile_parcel folder\n",
    "get_skater_output(\"../data/hilo_parcel_skater/hilo_parcel_skater.shp\", 50, \"weight\")"
   ]
  },
  {
   "cell_type": "code",
   "execution_count": 9,
   "id": "39525eb6",
   "metadata": {},
   "outputs": [
    {
     "data": {
      "text/html": [
       "<div>\n",
       "<style scoped>\n",
       "    .dataframe tbody tr th:only-of-type {\n",
       "        vertical-align: middle;\n",
       "    }\n",
       "\n",
       "    .dataframe tbody tr th {\n",
       "        vertical-align: top;\n",
       "    }\n",
       "\n",
       "    .dataframe thead th {\n",
       "        text-align: right;\n",
       "    }\n",
       "</style>\n",
       "<table border=\"1\" class=\"dataframe\">\n",
       "  <thead>\n",
       "    <tr style=\"text-align: right;\">\n",
       "      <th></th>\n",
       "      <th>objectid</th>\n",
       "      <th>zoning_id</th>\n",
       "      <th>zone</th>\n",
       "      <th>Long</th>\n",
       "      <th>Lat</th>\n",
       "      <th>Area</th>\n",
       "      <th>zone_type</th>\n",
       "      <th>category_w</th>\n",
       "      <th>weight</th>\n",
       "      <th>label</th>\n",
       "      <th>geometry</th>\n",
       "    </tr>\n",
       "  </thead>\n",
       "  <tbody>\n",
       "    <tr>\n",
       "      <th>0</th>\n",
       "      <td>1862</td>\n",
       "      <td>6499</td>\n",
       "      <td>A-20a</td>\n",
       "      <td>-155.136092</td>\n",
       "      <td>19.731814</td>\n",
       "      <td>1.955638e-03</td>\n",
       "      <td>Not of Interest</td>\n",
       "      <td>0.1</td>\n",
       "      <td>1.955638e-04</td>\n",
       "      <td>0</td>\n",
       "      <td>POLYGON ((-155.15327 19.75268, -155.15313 19.7...</td>\n",
       "    </tr>\n",
       "    <tr>\n",
       "      <th>1</th>\n",
       "      <td>1895</td>\n",
       "      <td>6500</td>\n",
       "      <td>A-20a</td>\n",
       "      <td>-155.102351</td>\n",
       "      <td>19.740232</td>\n",
       "      <td>3.468911e-05</td>\n",
       "      <td>Not of Interest</td>\n",
       "      <td>0.1</td>\n",
       "      <td>3.468911e-06</td>\n",
       "      <td>1</td>\n",
       "      <td>POLYGON ((-155.10012 19.74090, -155.09962 19.7...</td>\n",
       "    </tr>\n",
       "    <tr>\n",
       "      <th>2</th>\n",
       "      <td>1898</td>\n",
       "      <td>908</td>\n",
       "      <td>(breakwater)</td>\n",
       "      <td>-155.061874</td>\n",
       "      <td>19.739818</td>\n",
       "      <td>2.722754e-06</td>\n",
       "      <td>Not of Interest</td>\n",
       "      <td>0.1</td>\n",
       "      <td>2.722754e-07</td>\n",
       "      <td>2</td>\n",
       "      <td>POLYGON ((-155.06627 19.74369, -155.06468 19.7...</td>\n",
       "    </tr>\n",
       "    <tr>\n",
       "      <th>3</th>\n",
       "      <td>1905</td>\n",
       "      <td>3522</td>\n",
       "      <td>RS-10</td>\n",
       "      <td>-155.092724</td>\n",
       "      <td>19.739572</td>\n",
       "      <td>4.370680e-06</td>\n",
       "      <td>Single-Family Residence</td>\n",
       "      <td>1.0</td>\n",
       "      <td>4.370680e-06</td>\n",
       "      <td>3</td>\n",
       "      <td>POLYGON ((-155.09202 19.73952, -155.09197 19.7...</td>\n",
       "    </tr>\n",
       "    <tr>\n",
       "      <th>4</th>\n",
       "      <td>1906</td>\n",
       "      <td>3530</td>\n",
       "      <td>MG-5a</td>\n",
       "      <td>-155.090606</td>\n",
       "      <td>19.738119</td>\n",
       "      <td>3.570119e-06</td>\n",
       "      <td>Not of Interest</td>\n",
       "      <td>0.1</td>\n",
       "      <td>3.570119e-07</td>\n",
       "      <td>4</td>\n",
       "      <td>POLYGON ((-155.09025 19.74157, -155.09031 19.7...</td>\n",
       "    </tr>\n",
       "    <tr>\n",
       "      <th>...</th>\n",
       "      <td>...</td>\n",
       "      <td>...</td>\n",
       "      <td>...</td>\n",
       "      <td>...</td>\n",
       "      <td>...</td>\n",
       "      <td>...</td>\n",
       "      <td>...</td>\n",
       "      <td>...</td>\n",
       "      <td>...</td>\n",
       "      <td>...</td>\n",
       "      <td>...</td>\n",
       "    </tr>\n",
       "    <tr>\n",
       "      <th>1354</th>\n",
       "      <td>7688</td>\n",
       "      <td>806</td>\n",
       "      <td>MCX-20</td>\n",
       "      <td>-155.071309</td>\n",
       "      <td>19.721777</td>\n",
       "      <td>1.170604e-06</td>\n",
       "      <td>Commercial Industrial Mix</td>\n",
       "      <td>1.5</td>\n",
       "      <td>1.755906e-06</td>\n",
       "      <td>2</td>\n",
       "      <td>POLYGON ((-155.07061 19.72225, -155.07065 19.7...</td>\n",
       "    </tr>\n",
       "    <tr>\n",
       "      <th>1355</th>\n",
       "      <td>7694</td>\n",
       "      <td>806</td>\n",
       "      <td>OPEN</td>\n",
       "      <td>-155.070613</td>\n",
       "      <td>19.722294</td>\n",
       "      <td>1.560282e-08</td>\n",
       "      <td>Not of Interest</td>\n",
       "      <td>0.1</td>\n",
       "      <td>1.560282e-09</td>\n",
       "      <td>2</td>\n",
       "      <td>POLYGON ((-155.07054 19.72236, -155.07054 19.7...</td>\n",
       "    </tr>\n",
       "    <tr>\n",
       "      <th>1356</th>\n",
       "      <td>7697</td>\n",
       "      <td>1239</td>\n",
       "      <td>CG-7.5</td>\n",
       "      <td>-155.078139</td>\n",
       "      <td>19.707489</td>\n",
       "      <td>1.524295e-07</td>\n",
       "      <td>General Commercial</td>\n",
       "      <td>2.0</td>\n",
       "      <td>3.048589e-07</td>\n",
       "      <td>2</td>\n",
       "      <td>POLYGON ((-155.07779 19.70756, -155.07781 19.7...</td>\n",
       "    </tr>\n",
       "    <tr>\n",
       "      <th>1357</th>\n",
       "      <td>7706</td>\n",
       "      <td>616</td>\n",
       "      <td>MCX-20</td>\n",
       "      <td>-155.065323</td>\n",
       "      <td>19.711957</td>\n",
       "      <td>1.790087e-07</td>\n",
       "      <td>Commercial Industrial Mix</td>\n",
       "      <td>1.5</td>\n",
       "      <td>2.685130e-07</td>\n",
       "      <td>2</td>\n",
       "      <td>POLYGON ((-155.06531 19.71182, -155.06564 19.7...</td>\n",
       "    </tr>\n",
       "    <tr>\n",
       "      <th>1358</th>\n",
       "      <td>7708</td>\n",
       "      <td>1372</td>\n",
       "      <td>RS-15</td>\n",
       "      <td>-155.096391</td>\n",
       "      <td>19.671168</td>\n",
       "      <td>4.436759e-06</td>\n",
       "      <td>Single-Family Residence</td>\n",
       "      <td>1.0</td>\n",
       "      <td>4.436759e-06</td>\n",
       "      <td>2</td>\n",
       "      <td>POLYGON ((-155.09541 19.67191, -155.09541 19.6...</td>\n",
       "    </tr>\n",
       "  </tbody>\n",
       "</table>\n",
       "<p>1359 rows × 11 columns</p>\n",
       "</div>"
      ],
      "text/plain": [
       "      objectid  zoning_id          zone        Long        Lat          Area  \\\n",
       "0         1862       6499         A-20a -155.136092  19.731814  1.955638e-03   \n",
       "1         1895       6500         A-20a -155.102351  19.740232  3.468911e-05   \n",
       "2         1898        908  (breakwater) -155.061874  19.739818  2.722754e-06   \n",
       "3         1905       3522         RS-10 -155.092724  19.739572  4.370680e-06   \n",
       "4         1906       3530         MG-5a -155.090606  19.738119  3.570119e-06   \n",
       "...        ...        ...           ...         ...        ...           ...   \n",
       "1354      7688        806        MCX-20 -155.071309  19.721777  1.170604e-06   \n",
       "1355      7694        806          OPEN -155.070613  19.722294  1.560282e-08   \n",
       "1356      7697       1239        CG-7.5 -155.078139  19.707489  1.524295e-07   \n",
       "1357      7706        616        MCX-20 -155.065323  19.711957  1.790087e-07   \n",
       "1358      7708       1372         RS-15 -155.096391  19.671168  4.436759e-06   \n",
       "\n",
       "                      zone_type  category_w        weight  label  \\\n",
       "0               Not of Interest         0.1  1.955638e-04      0   \n",
       "1               Not of Interest         0.1  3.468911e-06      1   \n",
       "2               Not of Interest         0.1  2.722754e-07      2   \n",
       "3       Single-Family Residence         1.0  4.370680e-06      3   \n",
       "4               Not of Interest         0.1  3.570119e-07      4   \n",
       "...                         ...         ...           ...    ...   \n",
       "1354  Commercial Industrial Mix         1.5  1.755906e-06      2   \n",
       "1355            Not of Interest         0.1  1.560282e-09      2   \n",
       "1356         General Commercial         2.0  3.048589e-07      2   \n",
       "1357  Commercial Industrial Mix         1.5  2.685130e-07      2   \n",
       "1358    Single-Family Residence         1.0  4.436759e-06      2   \n",
       "\n",
       "                                               geometry  \n",
       "0     POLYGON ((-155.15327 19.75268, -155.15313 19.7...  \n",
       "1     POLYGON ((-155.10012 19.74090, -155.09962 19.7...  \n",
       "2     POLYGON ((-155.06627 19.74369, -155.06468 19.7...  \n",
       "3     POLYGON ((-155.09202 19.73952, -155.09197 19.7...  \n",
       "4     POLYGON ((-155.09025 19.74157, -155.09031 19.7...  \n",
       "...                                                 ...  \n",
       "1354  POLYGON ((-155.07061 19.72225, -155.07065 19.7...  \n",
       "1355  POLYGON ((-155.07054 19.72236, -155.07054 19.7...  \n",
       "1356  POLYGON ((-155.07779 19.70756, -155.07781 19.7...  \n",
       "1357  POLYGON ((-155.06531 19.71182, -155.06564 19.7...  \n",
       "1358  POLYGON ((-155.09541 19.67191, -155.09541 19.6...  \n",
       "\n",
       "[1359 rows x 11 columns]"
      ]
     },
     "execution_count": 9,
     "metadata": {},
     "output_type": "execute_result"
    }
   ],
   "source": [
    "# Read the shapefile the above codes generated for further operations\n",
    "hilo_skater_label = geopandas.read_file(\"result.shp\")\n",
    "hilo_skater_label"
   ]
  },
  {
   "cell_type": "code",
   "execution_count": 11,
   "id": "c8648d73",
   "metadata": {},
   "outputs": [],
   "source": [
    "# Merge clusters with same labels\n",
    "hilo_cluster = hilo_skater_label.dissolve(by='label').to_crs(\"EPSG:4326\")"
   ]
  },
  {
   "cell_type": "code",
   "execution_count": 12,
   "id": "d50ac2a2",
   "metadata": {},
   "outputs": [],
   "source": [
    "# Create a copy\n",
    "hilo_cluster_copy = hilo_cluster[:]"
   ]
  },
  {
   "cell_type": "code",
   "execution_count": 14,
   "id": "03ebe073",
   "metadata": {},
   "outputs": [],
   "source": [
    "# Create the cluster polygon geojson\n",
    "hilo_cluster.to_file(\"hilo_cluster_skater_70.geojson\",driver=\"GeoJSON\")"
   ]
  },
  {
   "cell_type": "code",
   "execution_count": 15,
   "id": "b02a2298",
   "metadata": {},
   "outputs": [
    {
     "name": "stderr",
     "output_type": "stream",
     "text": [
      "C:\\Users\\Charlie Qiu\\AppData\\Local\\Temp\\ipykernel_26880\\2375084071.py:1: UserWarning: Geometry is in a geographic CRS. Results from 'centroid' are likely incorrect. Use 'GeoSeries.to_crs()' to re-project geometries to a projected CRS before this operation.\n",
      "\n",
      "  hilo_cluster_centroid = geopandas.GeoDataFrame(hilo_cluster_copy, geometry = hilo_cluster.centroid.to_crs(\"EPSG:4326\")).to_crs(\"EPSG:4326\")\n"
     ]
    },
    {
     "data": {
      "text/html": [
       "<div>\n",
       "<style scoped>\n",
       "    .dataframe tbody tr th:only-of-type {\n",
       "        vertical-align: middle;\n",
       "    }\n",
       "\n",
       "    .dataframe tbody tr th {\n",
       "        vertical-align: top;\n",
       "    }\n",
       "\n",
       "    .dataframe thead th {\n",
       "        text-align: right;\n",
       "    }\n",
       "</style>\n",
       "<table border=\"1\" class=\"dataframe\">\n",
       "  <thead>\n",
       "    <tr style=\"text-align: right;\">\n",
       "      <th></th>\n",
       "      <th>geometry</th>\n",
       "      <th>objectid</th>\n",
       "      <th>zoning_id</th>\n",
       "      <th>zone</th>\n",
       "      <th>Long</th>\n",
       "      <th>Lat</th>\n",
       "      <th>Area</th>\n",
       "      <th>zone_type</th>\n",
       "      <th>category_w</th>\n",
       "      <th>weight</th>\n",
       "    </tr>\n",
       "    <tr>\n",
       "      <th>label</th>\n",
       "      <th></th>\n",
       "      <th></th>\n",
       "      <th></th>\n",
       "      <th></th>\n",
       "      <th></th>\n",
       "      <th></th>\n",
       "      <th></th>\n",
       "      <th></th>\n",
       "      <th></th>\n",
       "      <th></th>\n",
       "    </tr>\n",
       "  </thead>\n",
       "  <tbody>\n",
       "    <tr>\n",
       "      <th>0</th>\n",
       "      <td>POINT (-155.13609 19.73181)</td>\n",
       "      <td>1862</td>\n",
       "      <td>6499</td>\n",
       "      <td>A-20a</td>\n",
       "      <td>-155.136092</td>\n",
       "      <td>19.731814</td>\n",
       "      <td>1.955638e-03</td>\n",
       "      <td>Not of Interest</td>\n",
       "      <td>0.1</td>\n",
       "      <td>1.955638e-04</td>\n",
       "    </tr>\n",
       "    <tr>\n",
       "      <th>1</th>\n",
       "      <td>POINT (-155.10235 19.74023)</td>\n",
       "      <td>1895</td>\n",
       "      <td>6500</td>\n",
       "      <td>A-20a</td>\n",
       "      <td>-155.102351</td>\n",
       "      <td>19.740232</td>\n",
       "      <td>3.468911e-05</td>\n",
       "      <td>Not of Interest</td>\n",
       "      <td>0.1</td>\n",
       "      <td>3.468911e-06</td>\n",
       "    </tr>\n",
       "    <tr>\n",
       "      <th>2</th>\n",
       "      <td>POINT (-155.09435 19.68400)</td>\n",
       "      <td>1898</td>\n",
       "      <td>908</td>\n",
       "      <td>(breakwater)</td>\n",
       "      <td>-155.061874</td>\n",
       "      <td>19.739818</td>\n",
       "      <td>2.722754e-06</td>\n",
       "      <td>Not of Interest</td>\n",
       "      <td>0.1</td>\n",
       "      <td>2.722754e-07</td>\n",
       "    </tr>\n",
       "    <tr>\n",
       "      <th>3</th>\n",
       "      <td>POINT (-155.09367 19.73952)</td>\n",
       "      <td>1905</td>\n",
       "      <td>3522</td>\n",
       "      <td>RS-10</td>\n",
       "      <td>-155.092724</td>\n",
       "      <td>19.739572</td>\n",
       "      <td>4.370680e-06</td>\n",
       "      <td>Single-Family Residence</td>\n",
       "      <td>1.0</td>\n",
       "      <td>4.370680e-06</td>\n",
       "    </tr>\n",
       "    <tr>\n",
       "      <th>4</th>\n",
       "      <td>POINT (-155.09061 19.73812)</td>\n",
       "      <td>1906</td>\n",
       "      <td>3530</td>\n",
       "      <td>MG-5a</td>\n",
       "      <td>-155.090606</td>\n",
       "      <td>19.738119</td>\n",
       "      <td>3.570119e-06</td>\n",
       "      <td>Not of Interest</td>\n",
       "      <td>0.1</td>\n",
       "      <td>3.570119e-07</td>\n",
       "    </tr>\n",
       "    <tr>\n",
       "      <th>...</th>\n",
       "      <td>...</td>\n",
       "      <td>...</td>\n",
       "      <td>...</td>\n",
       "      <td>...</td>\n",
       "      <td>...</td>\n",
       "      <td>...</td>\n",
       "      <td>...</td>\n",
       "      <td>...</td>\n",
       "      <td>...</td>\n",
       "      <td>...</td>\n",
       "    </tr>\n",
       "    <tr>\n",
       "      <th>66</th>\n",
       "      <td>POINT (-155.02979 19.62520)</td>\n",
       "      <td>3946</td>\n",
       "      <td>3613</td>\n",
       "      <td>A-20a</td>\n",
       "      <td>-155.029786</td>\n",
       "      <td>19.625196</td>\n",
       "      <td>6.305622e-08</td>\n",
       "      <td>Not of Interest</td>\n",
       "      <td>0.1</td>\n",
       "      <td>6.305621e-09</td>\n",
       "    </tr>\n",
       "    <tr>\n",
       "      <th>67</th>\n",
       "      <td>POINT (-155.02993 19.62482)</td>\n",
       "      <td>3951</td>\n",
       "      <td>3614</td>\n",
       "      <td>A-20a</td>\n",
       "      <td>-155.029931</td>\n",
       "      <td>19.624818</td>\n",
       "      <td>1.791785e-07</td>\n",
       "      <td>Not of Interest</td>\n",
       "      <td>0.1</td>\n",
       "      <td>1.791785e-08</td>\n",
       "    </tr>\n",
       "    <tr>\n",
       "      <th>68</th>\n",
       "      <td>POINT (-155.03012 19.62445)</td>\n",
       "      <td>3961</td>\n",
       "      <td>3616</td>\n",
       "      <td>A-20a</td>\n",
       "      <td>-155.030118</td>\n",
       "      <td>19.624454</td>\n",
       "      <td>1.103559e-07</td>\n",
       "      <td>Not of Interest</td>\n",
       "      <td>0.1</td>\n",
       "      <td>1.103559e-08</td>\n",
       "    </tr>\n",
       "    <tr>\n",
       "      <th>69</th>\n",
       "      <td>POINT (-155.03016 19.62403)</td>\n",
       "      <td>3964</td>\n",
       "      <td>3617</td>\n",
       "      <td>A-20a</td>\n",
       "      <td>-155.030164</td>\n",
       "      <td>19.624035</td>\n",
       "      <td>2.413808e-07</td>\n",
       "      <td>Not of Interest</td>\n",
       "      <td>0.1</td>\n",
       "      <td>2.413808e-08</td>\n",
       "    </tr>\n",
       "    <tr>\n",
       "      <th>70</th>\n",
       "      <td>POINT (-155.02975 19.62425)</td>\n",
       "      <td>7641</td>\n",
       "      <td>3615</td>\n",
       "      <td>A-20a</td>\n",
       "      <td>-155.029754</td>\n",
       "      <td>19.624250</td>\n",
       "      <td>2.420204e-07</td>\n",
       "      <td>Not of Interest</td>\n",
       "      <td>0.1</td>\n",
       "      <td>2.420204e-08</td>\n",
       "    </tr>\n",
       "  </tbody>\n",
       "</table>\n",
       "<p>71 rows × 10 columns</p>\n",
       "</div>"
      ],
      "text/plain": [
       "                          geometry  objectid  zoning_id          zone  \\\n",
       "label                                                                   \n",
       "0      POINT (-155.13609 19.73181)      1862       6499         A-20a   \n",
       "1      POINT (-155.10235 19.74023)      1895       6500         A-20a   \n",
       "2      POINT (-155.09435 19.68400)      1898        908  (breakwater)   \n",
       "3      POINT (-155.09367 19.73952)      1905       3522         RS-10   \n",
       "4      POINT (-155.09061 19.73812)      1906       3530         MG-5a   \n",
       "...                            ...       ...        ...           ...   \n",
       "66     POINT (-155.02979 19.62520)      3946       3613         A-20a   \n",
       "67     POINT (-155.02993 19.62482)      3951       3614         A-20a   \n",
       "68     POINT (-155.03012 19.62445)      3961       3616         A-20a   \n",
       "69     POINT (-155.03016 19.62403)      3964       3617         A-20a   \n",
       "70     POINT (-155.02975 19.62425)      7641       3615         A-20a   \n",
       "\n",
       "             Long        Lat          Area                zone_type  \\\n",
       "label                                                                 \n",
       "0     -155.136092  19.731814  1.955638e-03          Not of Interest   \n",
       "1     -155.102351  19.740232  3.468911e-05          Not of Interest   \n",
       "2     -155.061874  19.739818  2.722754e-06          Not of Interest   \n",
       "3     -155.092724  19.739572  4.370680e-06  Single-Family Residence   \n",
       "4     -155.090606  19.738119  3.570119e-06          Not of Interest   \n",
       "...           ...        ...           ...                      ...   \n",
       "66    -155.029786  19.625196  6.305622e-08          Not of Interest   \n",
       "67    -155.029931  19.624818  1.791785e-07          Not of Interest   \n",
       "68    -155.030118  19.624454  1.103559e-07          Not of Interest   \n",
       "69    -155.030164  19.624035  2.413808e-07          Not of Interest   \n",
       "70    -155.029754  19.624250  2.420204e-07          Not of Interest   \n",
       "\n",
       "       category_w        weight  \n",
       "label                            \n",
       "0             0.1  1.955638e-04  \n",
       "1             0.1  3.468911e-06  \n",
       "2             0.1  2.722754e-07  \n",
       "3             1.0  4.370680e-06  \n",
       "4             0.1  3.570119e-07  \n",
       "...           ...           ...  \n",
       "66            0.1  6.305621e-09  \n",
       "67            0.1  1.791785e-08  \n",
       "68            0.1  1.103559e-08  \n",
       "69            0.1  2.413808e-08  \n",
       "70            0.1  2.420204e-08  \n",
       "\n",
       "[71 rows x 10 columns]"
      ]
     },
     "execution_count": 15,
     "metadata": {},
     "output_type": "execute_result"
    }
   ],
   "source": [
    "# Create the cluster point (centroid) geodataframe\n",
    "hilo_cluster_centroid = geopandas.GeoDataFrame(hilo_cluster_copy, geometry = hilo_cluster.centroid.to_crs(\"EPSG:4326\")).to_crs(\"EPSG:4326\")\n",
    "hilo_cluster_centroid"
   ]
  },
  {
   "cell_type": "code",
   "execution_count": 16,
   "id": "6cdb17d7",
   "metadata": {},
   "outputs": [],
   "source": [
    "# Create the cluster centroid geojson\n",
    "hilo_cluster_centroid.to_file(\"hilo_cluster_centroid_skater_70.geojson\",driver=\"GeoJSON\")"
   ]
  },
  {
   "cell_type": "code",
   "execution_count": null,
   "id": "a94967aa",
   "metadata": {},
   "outputs": [],
   "source": [
    "# Create buffer zone for the cluster centroid we generated above\n",
    "# 0.004 is 1/4 mile, 5-min walking distance\n",
    "skater_hilo_70 = geopandas.read_file(\"hilo_cluster_centroid_70.geojson\")\n",
    "skater_70_buffer = skater_hilo_70[:]\n",
    "skater_70_buffer[\"geometry\"] = skater_hilo_70.geometry.buffer(0.004)\n",
    "skater_70_buffer.to_file(\"hilo_cluster_buffer_skater_70.geojson\",driver = \"GeoJSON\")"
   ]
  },
  {
   "attachments": {},
   "cell_type": "markdown",
   "id": "442d6f08",
   "metadata": {},
   "source": [
    "#### The outputs are in the \"Output_of_skater_for_hilo\" folder"
   ]
  }
 ],
 "metadata": {
  "kernelspec": {
   "display_name": "Python 3 (ipykernel)",
   "language": "python",
   "name": "python3"
  },
  "language_info": {
   "codemirror_mode": {
    "name": "ipython",
    "version": 3
   },
   "file_extension": ".py",
   "mimetype": "text/x-python",
   "name": "python",
   "nbconvert_exporter": "python",
   "pygments_lexer": "ipython3",
   "version": "3.9.1"
  }
 },
 "nbformat": 4,
 "nbformat_minor": 5
}
